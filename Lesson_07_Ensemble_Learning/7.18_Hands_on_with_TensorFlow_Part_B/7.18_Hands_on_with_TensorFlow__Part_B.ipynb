{
 "cells": [
  {
   "cell_type": "markdown",
   "metadata": {
    "id": "vI13nWs4BAP5"
   },
   "source": [
    "# __Hands-on with TensorFlow: Part B__\n",
    "\n",
    "- In this demo, let's see how to implement ensemble techniques using Keras and sklearn."
   ]
  },
  {
   "cell_type": "markdown",
   "metadata": {
    "id": "jZLpx5yzMrJV"
   },
   "source": [
    "## Step 1: Import Required Libraries and Load the Dataset\n",
    "\n",
    "- Import necessary libraries from Sklearn, TensorFlow, and Keras\n",
    "- Load the dataset using sklearn's make_moons function\n",
    "- Define X and y and split the dataset into training and testing sets using the train_test_split function"
   ]
  },
  {
   "cell_type": "code",
   "execution_count": 48,
   "metadata": {
    "id": "_EONocvnJq44"
   },
   "outputs": [],
   "source": [
    "import sklearn\n",
    "from sklearn.datasets import make_moons\n",
    "from sklearn.model_selection import train_test_split\n",
    "from sklearn.ensemble import RandomForestClassifier\n",
    "from sklearn.ensemble import VotingClassifier\n",
    "from sklearn.linear_model import LogisticRegression\n",
    "from sklearn.svm import SVC\n",
    "from sklearn.metrics import accuracy_score\n",
    "\n",
    "X,y=make_moons(n_samples=500,noise=0.30,random_state=42)\n",
    "\n",
    "X_train,X_test,y_train,y_test=train_test_split(X,y,random_state=42)"
   ]
  },
  {
   "cell_type": "markdown",
   "metadata": {
    "id": "2C8jMJdrcKFB"
   },
   "source": [
    "__Observation:__\n",
    "- The necessary libraries and modules have been downloaded."
   ]
  },
  {
   "cell_type": "markdown",
   "metadata": {
    "id": "ao8nC9vnOybb"
   },
   "source": [
    "## Step 2: Define Classifiers\n",
    "\n",
    "- Define Logistic Regression, Random Forest, Support Vector Machine, and Keras Neural Network classifiers\n"
   ]
  },
  {
   "cell_type": "code",
   "execution_count": 49,
   "metadata": {
    "id": "k2vUMJAaJq46"
   },
   "outputs": [],
   "source": [
    "log_clf = LogisticRegression(solver=\"lbfgs\", random_state=42)\n",
    "rnd_clf = RandomForestClassifier(n_estimators=100, random_state=42)\n",
    "svm_clf = SVC(gamma=\"scale\", random_state=42,probability=True)\n"
   ]
  },
  {
   "cell_type": "markdown",
   "metadata": {
    "id": "2k3pL01zFcjk"
   },
   "source": [
    "- Import Sequential and Dense modules from the TensorFlow library to create a neural network\n",
    "- Define the function build_nn() to build a neural network\n",
    " "
   ]
  },
  {
   "cell_type": "code",
   "execution_count": 50,
   "metadata": {
    "id": "0cSRoWszE0ou"
   },
   "outputs": [],
   "source": [
    "import os\n",
    "os.environ['TF_CPP_MIN_LOG_LEVEL'] = '2'\n",
    "from tensorflow.keras import Sequential\n",
    "from tensorflow.keras.layers import Dense\n",
    "\n",
    "def build_nn():\n",
    "    model = Sequential([\n",
    "        Dense(50, activation='relu', input_shape=[2]),\n",
    "        Dense(1, activation='sigmoid')\n",
    "    ])\n",
    "    model.compile(\n",
    "        optimizer='Adam',\n",
    "        loss='binary_crossentropy',\n",
    "        metrics=['accuracy'])\n",
    "    return model"
   ]
  },
  {
   "cell_type": "markdown",
   "metadata": {
    "id": "bN5-O7B3Gnwd"
   },
   "source": [
    "- Now, let's wrap scikit learn and build a neural network with 500 epochs with the Keras Classifier."
   ]
  },
  {
   "cell_type": "code",
   "execution_count": null,
   "metadata": {},
   "outputs": [
    {
     "name": "stdout",
     "output_type": "stream",
     "text": [
      "Defaulting to user installation because normal site-packages is not writeable\n",
      "Requirement already satisfied: scikeras in ./.local/lib/python3.10/site-packages (0.10.0)\n",
      "Requirement already satisfied: packaging>=0.21 in /usr/local/lib/python3.10/site-packages (from scikeras) (23.0)\n",
      "Requirement already satisfied: scikit-learn>=1.0.0 in /usr/local/lib/python3.10/site-packages (from scikeras) (1.2.2)\n",
      "Requirement already satisfied: numpy>=1.17.3 in /usr/local/lib/python3.10/site-packages (from scikit-learn>=1.0.0->scikeras) (1.23.5)\n",
      "Requirement already satisfied: scipy>=1.3.2 in /usr/local/lib/python3.10/site-packages (from scikit-learn>=1.0.0->scikeras) (1.9.3)\n",
      "Requirement already satisfied: joblib>=1.1.1 in /usr/local/lib/python3.10/site-packages (from scikit-learn>=1.0.0->scikeras) (1.2.0)\n",
      "Requirement already satisfied: threadpoolctl>=2.0.0 in /usr/local/lib/python3.10/site-packages (from scikit-learn>=1.0.0->scikeras) (3.1.0)\n"
     ]
    }
   ],
   "source": [
    "pip install scikeras"
   ]
  },
  {
   "cell_type": "code",
   "execution_count": null,
   "metadata": {
    "colab": {
     "base_uri": "https://localhost:8080/"
    },
    "executionInfo": {
     "elapsed": 7,
     "status": "ok",
     "timestamp": 1683192871565,
     "user": {
      "displayName": "Akshay Kukkaje",
      "userId": "07529526247935866270"
     },
     "user_tz": -330
    },
    "id": "cgmUNNmUJq46",
    "outputId": "2729be1c-fe00-47a5-94ab-e3515a477f88"
   },
   "outputs": [],
   "source": [
    "import tensorflow as tf\n",
    "from scikeras.wrappers import KerasClassifier\n",
    "from tensorflow.keras import Sequential\n",
    "from tensorflow.keras.layers import Dense\n",
    "\n",
    "def build_nn():\n",
    "    model = Sequential([\n",
    "        Dense(50, activation='relu', input_shape=[2]),\n",
    "        Dense(1, activation='sigmoid')\n",
    "    ])\n",
    "    model.compile(\n",
    "        optimizer='Adam',\n",
    "        loss='binary_crossentropy',\n",
    "        metrics=['accuracy'])\n",
    "    return model\n",
    "\n",
    "keras_clf = KerasClassifier(build_fn=build_nn, epochs=500, verbose=False)"
   ]
  },
  {
   "cell_type": "markdown",
   "metadata": {
    "id": "0tphZcfXcYgR"
   },
   "source": [
    "__Observation:__\n",
    "- Scikit learn is wrapped."
   ]
  },
  {
   "cell_type": "code",
   "execution_count": null,
   "metadata": {
    "id": "DAJlROHEJq47"
   },
   "outputs": [],
   "source": [
    "keras_clf._estimator_type = \"classifier\""
   ]
  },
  {
   "cell_type": "markdown",
   "metadata": {
    "id": "kT_b689QPHLT"
   },
   "source": [
    "## Step 3: Create the Voting Classifier\n",
    "\n",
    "- Combine the classifiers using sklearn's VotingClassifier with soft voting\n"
   ]
  },
  {
   "cell_type": "code",
   "execution_count": null,
   "metadata": {
    "id": "b0cgzJtOJq48"
   },
   "outputs": [],
   "source": [
    "voting = VotingClassifier(\n",
    "             estimators=[('lr', log_clf),\n",
    "                         ('rf', rnd_clf),\n",
    "                         ('svc', svm_clf),\n",
    "                         ('keras',keras_clf)], \n",
    "             voting='soft',\n",
    "             flatten_transform=True)"
   ]
  },
  {
   "cell_type": "markdown",
   "metadata": {
    "id": "c2QAmchjcf7M"
   },
   "source": [
    "- The classifiers are combined with soft voting."
   ]
  },
  {
   "cell_type": "markdown",
   "metadata": {
    "id": "0mRgesqtPL-o"
   },
   "source": [
    "## Step 4: Train and Evaluate the Classifiers\n",
    "\n",
    "- Train the voting classifier and each individual classifier\n",
    "- Make predictions on the test set and calculate the accuracy for each classifier\n"
   ]
  },
  {
   "cell_type": "code",
   "execution_count": null,
   "metadata": {
    "id": "ropdT_KTJq48",
    "outputId": "696c6b5f-c7eb-47b6-9aae-66de29a8238e"
   },
   "outputs": [],
   "source": [
    "voting = VotingClassifier(estimators=[('Keras', KerasClassifier(model=build_nn, epochs=500, verbose=False))])\n",
    "voting.fit(X_train, y_train)"
   ]
  },
  {
   "cell_type": "markdown",
   "metadata": {
    "id": "_1ENHCzILjAk"
   },
   "source": [
    "- Consider voting with VotingClassifier and estimator\n",
    "- The first is LogisticRegression, the second is RandomForest, the third is SVM, the fourth is KerasClassifier, and the fifth is VotingClassifier."
   ]
  },
  {
   "cell_type": "code",
   "execution_count": null,
   "metadata": {
    "id": "jMLuWgsWJq48",
    "outputId": "78a2a7c9-3951-466e-8128-d79c84da6ad5"
   },
   "outputs": [],
   "source": [
    "for clf in (log_clf, rnd_clf, svm_clf, keras_clf, voting):\n",
    "    clf.fit(X_train, y_train)\n",
    "    y_pred = clf.predict(X_test)\n",
    "    print(clf.__class__.__name__, accuracy_score(y_test, y_pred))"
   ]
  },
  {
   "cell_type": "markdown",
   "metadata": {
    "id": "FnVx5OuhcnJ6"
   },
   "source": [
    "__Observation:__\n",
    "\n",
    "- As shown above, LogisticRegression is at 86% accuracy, RandomForest is at 89%, SVM is at 89%, KerasClassifier is at 89%, and VotingClassifier is at 92%."
   ]
  }
 ],
 "metadata": {
  "colab": {
   "provenance": []
  },
  "kernelspec": {
   "display_name": "Python 3 [3.10]",
   "language": "python",
   "name": "python3"
  },
  "language_info": {
   "codemirror_mode": {
    "name": "ipython",
    "version": 3
   },
   "file_extension": ".py",
   "mimetype": "text/x-python",
   "name": "python",
   "nbconvert_exporter": "python",
   "pygments_lexer": "ipython3",
   "version": "3.10.2"
  }
 },
 "nbformat": 4,
 "nbformat_minor": 4
}

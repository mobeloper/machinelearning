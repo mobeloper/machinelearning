{
 "cells": [
  {
   "cell_type": "markdown",
   "metadata": {
    "id": "r5DYPXQks8W8"
   },
   "source": [
    "# __Hands-on with TensorFlow: Part A__\n",
    " this demo, let's see how TensorFlow works and build a deep neural network model using the MNIST dataset."
   ]
  },
  {
   "cell_type": "markdown",
   "metadata": {
    "id": "FVLJK59QIE4L"
   },
   "source": [
    "## Step 1: Import TensorFlow\n",
    "\n",
    "- Import TensorFlow and check its version\n"
   ]
  },
  {
   "cell_type": "code",
   "execution_count": 26,
   "metadata": {
    "colab": {
     "base_uri": "https://localhost:8080/"
    },
    "executionInfo": {
     "elapsed": 4843,
     "status": "ok",
     "timestamp": 1683226361495,
     "user": {
      "displayName": "Sreelakshmi C V",
      "userId": "04477517605899898333"
     },
     "user_tz": -330
    },
    "id": "u2tOxjHDHMKV",
    "outputId": "bc067bfc-3a1a-447f-fe2a-6ddea1996ac8"
   },
   "outputs": [
    {
     "name": "stdout",
     "output_type": "stream",
     "text": [
      "TensorFlow version: 2.11.0\n"
     ]
    }
   ],
   "source": [
    "import os\n",
    "os.environ['TF_CPP_MIN_LOG_LEVEL'] = '2' \n",
    "\n",
    "import tensorflow as tf\n",
    "print(\"TensorFlow version:\", tf.__version__)"
   ]
  },
  {
   "cell_type": "markdown",
   "metadata": {
    "id": "9Kzn0RkDJISF"
   },
   "source": [
    "## Step 2: Load the MNIST Dataset\n",
    "\n",
    "- Load the MNIST dataset and normalize the input data by dividing the train and test sets by 255\n",
    "\n"
   ]
  },
  {
   "cell_type": "code",
   "execution_count": 27,
   "metadata": {
    "colab": {
     "base_uri": "https://localhost:8080/"
    },
    "executionInfo": {
     "elapsed": 1552,
     "status": "ok",
     "timestamp": 1683189767614,
     "user": {
      "displayName": "Akshay Kukkaje",
      "userId": "07529526247935866270"
     },
     "user_tz": -330
    },
    "id": "skfLvH-nHMKX",
    "outputId": "af39762a-71e8-40f3-9403-1f19c3e3bbb9"
   },
   "outputs": [],
   "source": [
    "mnist = tf.keras.datasets.mnist\n",
    "\n",
    "(x_train, y_train), (x_test, y_test) = mnist.load_data()\n",
    "x_train, x_test = x_train / 255.0, x_test / 255.0"
   ]
  },
  {
   "cell_type": "markdown",
   "metadata": {
    "id": "65QMopVDbRV_"
   },
   "source": [
    "__Observation:__\n",
    "- The dataset has been downloaded."
   ]
  },
  {
   "cell_type": "markdown",
   "metadata": {
    "id": "jNMOqMYQJLig"
   },
   "source": [
    "## Step 3: Create the Model\n",
    "\n",
    "- Create a Sequential model with Flatten, Dense, and Dropout layers\n"
   ]
  },
  {
   "cell_type": "code",
   "execution_count": 28,
   "metadata": {
    "id": "mtWDjnQ-HMKY"
   },
   "outputs": [],
   "source": [
    "model = tf.keras.models.Sequential([\n",
    "  tf.keras.layers.Flatten(input_shape=(28, 28)),\n",
    "  tf.keras.layers.Dense(128, activation='relu'),\n",
    "  tf.keras.layers.Dropout(0.2),\n",
    "  tf.keras.layers.Dense(10)\n",
    "])"
   ]
  },
  {
   "cell_type": "markdown",
   "metadata": {
    "id": "-OeXA6kqJOS9"
   },
   "source": [
    "## Step 4: Get Predictions from the Model\n",
    "\n",
    "- Get the predictions from the model using the train data for one column, as the optimizer is not yet applied\n"
   ]
  },
  {
   "cell_type": "code",
   "execution_count": 29,
   "metadata": {
    "colab": {
     "base_uri": "https://localhost:8080/"
    },
    "executionInfo": {
     "elapsed": 392,
     "status": "ok",
     "timestamp": 1683189778447,
     "user": {
      "displayName": "Akshay Kukkaje",
      "userId": "07529526247935866270"
     },
     "user_tz": -330
    },
    "id": "EEXrOQBIHMKY",
    "outputId": "baa54312-591d-4b80-cae7-b64c6669b0cf"
   },
   "outputs": [
    {
     "data": {
      "text/plain": [
       "array([[ 0.3633845 ,  0.63742155,  0.72694665,  0.70626116, -0.84114337,\n",
       "        -0.0098706 ,  0.79921377, -0.05048534,  0.06423756, -0.386028  ]],\n",
       "      dtype=float32)"
      ]
     },
     "execution_count": 29,
     "metadata": {},
     "output_type": "execute_result"
    }
   ],
   "source": [
    "predictions = model(x_train[:1]).numpy()\n",
    "predictions"
   ]
  },
  {
   "cell_type": "markdown",
   "metadata": {
    "id": "253Rri_7bYGW"
   },
   "source": [
    "__Observation:__\n",
    "- An array of predicted values is displayed."
   ]
  },
  {
   "cell_type": "markdown",
   "metadata": {
    "id": "CRWveFSDJQ1g"
   },
   "source": [
    "## Step 5: Apply Softmax Activation to the Predictions\n",
    "\n",
    "- Apply softmax activation to the predictions and print the output in terms of probabilities\n"
   ]
  },
  {
   "cell_type": "code",
   "execution_count": 30,
   "metadata": {
    "colab": {
     "base_uri": "https://localhost:8080/"
    },
    "executionInfo": {
     "elapsed": 419,
     "status": "ok",
     "timestamp": 1683190626726,
     "user": {
      "displayName": "Akshay Kukkaje",
      "userId": "07529526247935866270"
     },
     "user_tz": -330
    },
    "id": "wBEJwtZTHMKZ",
    "outputId": "aae33be5-27e4-4b13-8d74-75f6edccff91"
   },
   "outputs": [
    {
     "data": {
      "text/plain": [
       "array([[0.10446642, 0.1374009 , 0.15026914, 0.14719267, 0.03132254,\n",
       "        0.07192405, 0.16153067, 0.06906141, 0.07745669, 0.04937545]],\n",
       "      dtype=float32)"
      ]
     },
     "execution_count": 30,
     "metadata": {},
     "output_type": "execute_result"
    }
   ],
   "source": [
    "tf.nn.softmax(predictions).numpy()"
   ]
  },
  {
   "cell_type": "markdown",
   "metadata": {
    "id": "FbeDR5bZbk_x"
   },
   "source": [
    "__Observation:__\n",
    "- The predicted values in terms of probabilities are displayed as an array."
   ]
  },
  {
   "cell_type": "markdown",
   "metadata": {
    "id": "PI12JfM-JToW"
   },
   "source": [
    "## Step 6: Define the Loss Function\n",
    "\n",
    "- Let's create a loss function for the model.\n",
    "- Next, let's define the SparseCategoricalCrossentropy loss function.\n"
   ]
  },
  {
   "cell_type": "code",
   "execution_count": 31,
   "metadata": {
    "id": "nZ6pLV9zHMKZ"
   },
   "outputs": [],
   "source": [
    "loss_fn = tf.keras.losses.SparseCategoricalCrossentropy(from_logits=True)"
   ]
  },
  {
   "cell_type": "code",
   "execution_count": 32,
   "metadata": {
    "colab": {
     "base_uri": "https://localhost:8080/"
    },
    "executionInfo": {
     "elapsed": 469,
     "status": "ok",
     "timestamp": 1683190644262,
     "user": {
      "displayName": "Akshay Kukkaje",
      "userId": "07529526247935866270"
     },
     "user_tz": -330
    },
    "id": "AAnHjWvTHMKZ",
    "outputId": "39cc663e-71ba-478b-b5a4-eeddce521c9d"
   },
   "outputs": [
    {
     "data": {
      "text/plain": [
       "2.6321445"
      ]
     },
     "execution_count": 32,
     "metadata": {},
     "output_type": "execute_result"
    }
   ],
   "source": [
    "loss_fn(y_train[:1], predictions).numpy()"
   ]
  },
  {
   "cell_type": "markdown",
   "metadata": {
    "id": "w5HvjqdUH0WN"
   },
   "source": [
    "__Observation:__\n",
    "- Here,the value is 2.061."
   ]
  },
  {
   "cell_type": "markdown",
   "metadata": {
    "id": "XVXzZg9iJZaG"
   },
   "source": [
    "## Step 7: Compile the Model\n",
    "\n",
    "- Now, compile the model with the Adam optimizer, the loss function, and the accuracy metric"
   ]
  },
  {
   "cell_type": "code",
   "execution_count": 33,
   "metadata": {
    "id": "YKnSLj5vHMKa"
   },
   "outputs": [],
   "source": [
    "model.compile(optimizer='adam',\n",
    "              loss=loss_fn,\n",
    "              metrics=['accuracy'])"
   ]
  },
  {
   "cell_type": "markdown",
   "metadata": {
    "id": "p_F7rCgcIEMG"
   },
   "source": [
    "__Observation:__\n",
    "- Here, we have used an optimizer as Adam, loss as a loss function, and metrics as accuracy."
   ]
  },
  {
   "cell_type": "markdown",
   "metadata": {
    "id": "-AnMOFCkJcgv"
   },
   "source": [
    "## Step 8: Train the Model\n",
    "\n",
    "- Fit the model using the training data for 5 epochs\n"
   ]
  },
  {
   "cell_type": "code",
   "execution_count": 34,
   "metadata": {
    "colab": {
     "base_uri": "https://localhost:8080/"
    },
    "executionInfo": {
     "elapsed": 42571,
     "status": "ok",
     "timestamp": 1683190705515,
     "user": {
      "displayName": "Akshay Kukkaje",
      "userId": "07529526247935866270"
     },
     "user_tz": -330
    },
    "id": "5hjrBy1aHMKa",
    "outputId": "ab86d2c5-d80f-4bf8-a46d-fd6bb54528a0"
   },
   "outputs": [
    {
     "name": "stdout",
     "output_type": "stream",
     "text": [
      "Epoch 1/5\n",
      "1875/1875 [==============================] - 4s 2ms/step - loss: 0.3024 - accuracy: 0.9123\n",
      "Epoch 2/5\n",
      "1875/1875 [==============================] - 4s 2ms/step - loss: 0.1460 - accuracy: 0.9566\n",
      "Epoch 3/5\n",
      "1875/1875 [==============================] - 4s 2ms/step - loss: 0.1098 - accuracy: 0.9666\n",
      "Epoch 4/5\n",
      "1875/1875 [==============================] - 4s 2ms/step - loss: 0.0887 - accuracy: 0.9731\n",
      "Epoch 5/5\n",
      "1875/1875 [==============================] - 4s 2ms/step - loss: 0.0761 - accuracy: 0.9766\n"
     ]
    },
    {
     "data": {
      "text/plain": [
       "<keras.callbacks.History at 0x7f99831abe80>"
      ]
     },
     "execution_count": 34,
     "metadata": {},
     "output_type": "execute_result"
    }
   ],
   "source": [
    "model.fit(x_train, y_train, epochs=5)"
   ]
  },
  {
   "cell_type": "markdown",
   "metadata": {
    "id": "GHvNMdBKbv1X"
   },
   "source": [
    "__Observations:__\n",
    "- The model fits the data.\n",
    "- Here, we can see that the accuracy is increased by different epochs."
   ]
  },
  {
   "cell_type": "markdown",
   "metadata": {
    "id": "m0WyyUkmJfL2"
   },
   "source": [
    "## Step 9: Evaluate the Model\n",
    "\n",
    "- Evaluate the model using the testing data and print the results\n"
   ]
  },
  {
   "cell_type": "code",
   "execution_count": 35,
   "metadata": {
    "colab": {
     "base_uri": "https://localhost:8080/"
    },
    "executionInfo": {
     "elapsed": 2290,
     "status": "ok",
     "timestamp": 1683190827522,
     "user": {
      "displayName": "Akshay Kukkaje",
      "userId": "07529526247935866270"
     },
     "user_tz": -330
    },
    "id": "VzaL0IbfHMKa",
    "outputId": "eed7af37-9c45-4c59-c705-b7c88dc57e8d"
   },
   "outputs": [
    {
     "name": "stdout",
     "output_type": "stream",
     "text": [
      "313/313 - 0s - loss: 0.0668 - accuracy: 0.9782 - 396ms/epoch - 1ms/step\n"
     ]
    },
    {
     "data": {
      "text/plain": [
       "[0.0668352022767067, 0.9782000184059143]"
      ]
     },
     "execution_count": 35,
     "metadata": {},
     "output_type": "execute_result"
    }
   ],
   "source": [
    "model.evaluate(x_test,  y_test, verbose=2)"
   ]
  },
  {
   "cell_type": "markdown",
   "metadata": {
    "id": "VP4xBW0Bb1Np"
   },
   "source": [
    "__Observation:__\n",
    "\n",
    "- The accuracy score is 0.9779, and the loss is 0.071."
   ]
  },
  {
   "cell_type": "markdown",
   "metadata": {
    "id": "U4u4wC6hJiU-"
   },
   "source": [
    "## Step 10: Create a Probability Model\n",
    "\n",
    "- Create a probability model by adding the Softmax layer to the existing model\n",
    "\n"
   ]
  },
  {
   "cell_type": "code",
   "execution_count": 36,
   "metadata": {
    "id": "DYpCfUUhHMKb"
   },
   "outputs": [],
   "source": [
    "probability_model = tf.keras.Sequential([\n",
    "  model,\n",
    "  tf.keras.layers.Softmax()\n",
    "])"
   ]
  },
  {
   "cell_type": "markdown",
   "metadata": {
    "id": "F3B91f33Aop5"
   },
   "source": [
    "- And, get the predictions using the test data"
   ]
  },
  {
   "cell_type": "code",
   "execution_count": 37,
   "metadata": {
    "colab": {
     "base_uri": "https://localhost:8080/"
    },
    "executionInfo": {
     "elapsed": 356,
     "status": "ok",
     "timestamp": 1683190932886,
     "user": {
      "displayName": "Akshay Kukkaje",
      "userId": "07529526247935866270"
     },
     "user_tz": -330
    },
    "id": "LsDR4IHiHMKb",
    "outputId": "8d762624-d547-4e5e-f755-b873721993ff"
   },
   "outputs": [
    {
     "data": {
      "text/plain": [
       "<tf.Tensor: shape=(3, 10), dtype=float32, numpy=\n",
       "array([[1.9782617e-06, 1.9197207e-08, 7.8528938e-05, 1.6191219e-04,\n",
       "        1.3626786e-11, 1.4135667e-06, 4.4371760e-13, 9.9975222e-01,\n",
       "        2.7696291e-07, 3.5809292e-06],\n",
       "       [1.5188199e-06, 1.7499551e-03, 9.9792731e-01, 3.1914003e-04,\n",
       "        1.0835503e-14, 1.3473141e-06, 5.1437763e-07, 4.7613974e-12,\n",
       "        2.1119800e-07, 3.3589512e-14],\n",
       "       [2.2343370e-07, 9.9883312e-01, 1.5714944e-04, 1.0794544e-06,\n",
       "        3.4083387e-05, 8.9012826e-07, 5.9101712e-06, 9.0264116e-04,\n",
       "        6.3375475e-05, 1.5456823e-06]], dtype=float32)>"
      ]
     },
     "execution_count": 37,
     "metadata": {},
     "output_type": "execute_result"
    }
   ],
   "source": [
    "probability_model(x_test[:3])"
   ]
  },
  {
   "cell_type": "markdown",
   "metadata": {
    "id": "3nKN25BRb785"
   },
   "source": [
    "__Observation:__\n",
    "- Here, we have the probabilities for the first three observations and different classes."
   ]
  }
 ],
 "metadata": {
  "colab": {
   "provenance": []
  },
  "kernelspec": {
   "display_name": "Python 3 [3.10]",
   "language": "python",
   "name": "python3"
  },
  "language_info": {
   "codemirror_mode": {
    "name": "ipython",
    "version": 3
   },
   "file_extension": ".py",
   "mimetype": "text/x-python",
   "name": "python",
   "nbconvert_exporter": "python",
   "pygments_lexer": "ipython3",
   "version": "3.10.2"
  }
 },
 "nbformat": 4,
 "nbformat_minor": 4
}

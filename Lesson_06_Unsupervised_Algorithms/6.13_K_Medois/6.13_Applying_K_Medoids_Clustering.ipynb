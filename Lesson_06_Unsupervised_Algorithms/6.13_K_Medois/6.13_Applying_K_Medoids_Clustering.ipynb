{
 "cells": [
  {
   "cell_type": "markdown",
   "id": "V-0JBjwAhLVq",
   "metadata": {
    "id": "V-0JBjwAhLVq"
   },
   "source": [
    "## **Applying K-Medoids Clustering**"
   ]
  },
  {
   "cell_type": "markdown",
   "id": "UeSCLcJcezyU",
   "metadata": {
    "id": "UeSCLcJcezyU"
   },
   "source": [
    "## Step 1: Import the Required Libraries and Load the Dataset\n",
    "\n",
    "- Import **pandas, NumPy, matplotlib, and KMeans** from sklearn\n",
    "- Load the Mall_customers.csv dataset\n"
   ]
  },
  {
   "cell_type": "markdown",
   "id": "183322e8-dc67-4815-98f3-a2238b7bad05",
   "metadata": {},
   "source": [
    "## You may need to install scikit-learn-extra since it has been installed so now commented out.\n",
    "## pip install scikit-learn-extra    "
   ]
  },
  {
   "cell_type": "code",
   "execution_count": 7,
   "id": "-dlx0qFFepNL",
   "metadata": {
    "id": "-dlx0qFFepNL"
   },
   "outputs": [],
   "source": [
    "import pandas as pd\n",
    "import numpy as np\n",
    "import matplotlib.pyplot as plt\n",
    "%matplotlib inline\n",
    "from sklearn_extra.cluster import KMedoids"
   ]
  },
  {
   "cell_type": "code",
   "execution_count": 8,
   "id": "_nR-pfjzepNM",
   "metadata": {
    "id": "_nR-pfjzepNM"
   },
   "outputs": [],
   "source": [
    "## Same dataset which is used in K-Means.\n",
    "df = pd.read_csv('../../Datasets/Mall_customers.csv')"
   ]
  },
  {
   "cell_type": "code",
   "execution_count": 9,
   "id": "km7OIyVpepNN",
   "metadata": {
    "colab": {
     "base_uri": "https://localhost:8080/",
     "height": 206
    },
    "executionInfo": {
     "elapsed": 9,
     "status": "ok",
     "timestamp": 1682623418591,
     "user": {
      "displayName": "Sreelakshmi C V",
      "userId": "04477517605899898333"
     },
     "user_tz": -330
    },
    "id": "km7OIyVpepNN",
    "outputId": "06c19553-8b00-472e-cf88-6e410df47086"
   },
   "outputs": [
    {
     "data": {
      "text/html": [
       "<div>\n",
       "<style scoped>\n",
       "    .dataframe tbody tr th:only-of-type {\n",
       "        vertical-align: middle;\n",
       "    }\n",
       "\n",
       "    .dataframe tbody tr th {\n",
       "        vertical-align: top;\n",
       "    }\n",
       "\n",
       "    .dataframe thead th {\n",
       "        text-align: right;\n",
       "    }\n",
       "</style>\n",
       "<table border=\"1\" class=\"dataframe\">\n",
       "  <thead>\n",
       "    <tr style=\"text-align: right;\">\n",
       "      <th></th>\n",
       "      <th>CustomerID</th>\n",
       "      <th>Gender</th>\n",
       "      <th>Age</th>\n",
       "      <th>Annual Income (k$)</th>\n",
       "      <th>Spending Score (1-100)</th>\n",
       "    </tr>\n",
       "  </thead>\n",
       "  <tbody>\n",
       "    <tr>\n",
       "      <th>0</th>\n",
       "      <td>1</td>\n",
       "      <td>Male</td>\n",
       "      <td>19</td>\n",
       "      <td>15</td>\n",
       "      <td>39</td>\n",
       "    </tr>\n",
       "    <tr>\n",
       "      <th>1</th>\n",
       "      <td>2</td>\n",
       "      <td>Male</td>\n",
       "      <td>21</td>\n",
       "      <td>15</td>\n",
       "      <td>81</td>\n",
       "    </tr>\n",
       "    <tr>\n",
       "      <th>2</th>\n",
       "      <td>3</td>\n",
       "      <td>Female</td>\n",
       "      <td>20</td>\n",
       "      <td>16</td>\n",
       "      <td>6</td>\n",
       "    </tr>\n",
       "    <tr>\n",
       "      <th>3</th>\n",
       "      <td>4</td>\n",
       "      <td>Female</td>\n",
       "      <td>23</td>\n",
       "      <td>16</td>\n",
       "      <td>77</td>\n",
       "    </tr>\n",
       "    <tr>\n",
       "      <th>4</th>\n",
       "      <td>5</td>\n",
       "      <td>Female</td>\n",
       "      <td>31</td>\n",
       "      <td>17</td>\n",
       "      <td>40</td>\n",
       "    </tr>\n",
       "  </tbody>\n",
       "</table>\n",
       "</div>"
      ],
      "text/plain": [
       "   CustomerID  Gender  Age  Annual Income (k$)  Spending Score (1-100)\n",
       "0           1    Male   19                  15                      39\n",
       "1           2    Male   21                  15                      81\n",
       "2           3  Female   20                  16                       6\n",
       "3           4  Female   23                  16                      77\n",
       "4           5  Female   31                  17                      40"
      ]
     },
     "execution_count": 9,
     "metadata": {},
     "output_type": "execute_result"
    }
   ],
   "source": [
    "df.head()"
   ]
  },
  {
   "cell_type": "markdown",
   "id": "sePTD1HdLPhz",
   "metadata": {
    "id": "sePTD1HdLPhz"
   },
   "source": [
    "__Observation:__\n",
    "- Here, we have the **Age, Gender, Income, and Spending Score** of the customers."
   ]
  },
  {
   "cell_type": "markdown",
   "id": "7Carn1WSe3My",
   "metadata": {
    "id": "7Carn1WSe3My"
   },
   "source": [
    "## Step 2: Prepare the Data\n",
    "\n",
    "- Extract the relevant features from the dataset\n"
   ]
  },
  {
   "cell_type": "code",
   "execution_count": 10,
   "id": "VfFJs0OLepNO",
   "metadata": {
    "id": "VfFJs0OLepNO"
   },
   "outputs": [],
   "source": [
    "X = df.iloc[:, [3, 4]].values"
   ]
  },
  {
   "cell_type": "markdown",
   "id": "_H7q4mLM0O1F",
   "metadata": {
    "id": "_H7q4mLM0O1F"
   },
   "source": [
    "## Elbow method "
   ]
  },
  {
   "cell_type": "markdown",
   "id": "ANiSYGDK0-ny",
   "metadata": {
    "id": "ANiSYGDK0-ny"
   },
   "source": [
    "- The elbow method involves plotting the number of clusters against the distortion or inertia to identify a significant flattening point known as the __elbow__ point.\n",
    "- The elbow point represents a trade-off between capturing meaningful patterns and avoiding excessive complexity, and it indicates the optimal number of clusters.\n",
    "- By choosing the value of k at the elbow point, we strike a balance between cluster quality and simplicity, resulting in a reasonable number of clusters."
   ]
  },
  {
   "cell_type": "markdown",
   "id": "xsvBC-Tce7ac",
   "metadata": {
    "id": "xsvBC-Tce7ac"
   },
   "source": [
    "## Step 3: Find the Optimal Number of Clusters Using the Elbow Method\n",
    "\n",
    "- Calculate the WCSS (within-cluster sum of squares) for different numbers of clusters.\n",
    "- Plot the WCSS values to find the optimal number of clusters.\n"
   ]
  },
  {
   "cell_type": "code",
   "execution_count": 12,
   "id": "GMG2QpHaepNO",
   "metadata": {
    "id": "GMG2QpHaepNO",
    "outputId": "1e6cec0e-6824-4e57-9556-b1a5b0af710a"
   },
   "outputs": [
    {
     "data": {
      "image/png": "[encoded data removed]",
      "text/plain": [
       "<Figure size 432x288 with 1 Axes>"
      ]
     },
     "metadata": {
      "needs_background": "light"
     },
     "output_type": "display_data"
    }
   ],
   "source": [
    "wcss = []\n",
    "for i in range(1, 11):\n",
    "    model = KMedoids(n_clusters = i, init = 'k-medoids++', random_state = 42)\n",
    "    model.fit(X)\n",
    "    wcss.append(model.inertia_)\n",
    "plt.plot(range(1, 11), wcss)\n",
    "plt.title('The Elbow Method')\n",
    "plt.xlabel('Number of clusters')\n",
    "plt.ylabel('WCSS')\n",
    "plt.show()"
   ]
  },
  {
   "cell_type": "markdown",
   "id": "zRBrF_obfEYw",
   "metadata": {
    "id": "zRBrF_obfEYw"
   },
   "source": [
    "## Step 4: Train the K-Medoids Model on the Dataset\n",
    "\n",
    "- Train the K-Medoids model with the optimal number of clusters\n"
   ]
  },
  {
   "cell_type": "code",
   "execution_count": 13,
   "id": "PId_ufOjepNP",
   "metadata": {
    "id": "PId_ufOjepNP"
   },
   "outputs": [],
   "source": [
    "model = KMedoids(n_clusters = 5, init = 'k-medoids++', random_state = 42)\n",
    "y_kmedoids = model.fit_predict(X)"
   ]
  },
  {
   "cell_type": "markdown",
   "id": "p63Bj4qcfLMl",
   "metadata": {
    "id": "p63Bj4qcfLMl"
   },
   "source": [
    "## Step 5: Visualize the Clusters\n",
    "\n",
    "- Plot the clusters and their centroids on a scatter plot\n",
    "- Assign the color for each point\n",
    "- Consider the title, xlabel, and ylabel"
   ]
  },
  {
   "cell_type": "code",
   "execution_count": 14,
   "id": "2hdhINdXepNQ",
   "metadata": {
    "id": "2hdhINdXepNQ",
    "outputId": "148967c8-a02e-4eb0-b88b-cf6889492a02"
   },
   "outputs": [
    {
     "data": {
      "image/png": "[encoded data removed]",
      "text/plain": [
       "<Figure size 432x288 with 1 Axes>"
      ]
     },
     "metadata": {
      "needs_background": "light"
     },
     "output_type": "display_data"
    }
   ],
   "source": [
    "plt.scatter(X[y_kmedoids == 0, 0], X[y_kmedoids == 0, 1], s = 100, c = 'red', label = 'Cluster 1')\n",
    "plt.scatter(X[y_kmedoids == 1, 0], X[y_kmedoids == 1, 1], s = 100, c = 'blue', label = 'Cluster 2')\n",
    "plt.scatter(X[y_kmedoids == 2, 0], X[y_kmedoids == 2, 1], s = 100, c = 'green', label = 'Cluster 3')\n",
    "plt.scatter(X[y_kmedoids == 3, 0], X[y_kmedoids == 3, 1], s = 100, c = 'cyan', label = 'Cluster 4')\n",
    "plt.scatter(X[y_kmedoids == 4, 0], X[y_kmedoids == 4, 1], s = 100, c = 'magenta', label = 'Cluster 5')\n",
    "plt.scatter(model.cluster_centers_[:, 0], model.cluster_centers_[:, 1], s = 300, c = 'yellow', label = 'Centroids')\n",
    "plt.title('Clusters of customers')\n",
    "plt.xlabel('Annual Income (k$)')\n",
    "plt.ylabel('Spending Score (1-100)')\n",
    "plt.legend()\n",
    "plt.show()"
   ]
  },
  {
   "cell_type": "markdown",
   "id": "HgxQDKpQN_35",
   "metadata": {
    "id": "HgxQDKpQN_35"
   },
   "source": [
    "__Observation:__\n",
    "- K_medoids clusters with K = 5."
   ]
  }
 ],
 "metadata": {
  "colab": {
   "provenance": []
  },
  "kernelspec": {
   "display_name": "Python 3 [3.10]",
   "language": "python",
   "name": "python3"
  },
  "language_info": {
   "codemirror_mode": {
    "name": "ipython",
    "version": 3
   },
   "file_extension": ".py",
   "mimetype": "text/x-python",
   "name": "python",
   "nbconvert_exporter": "python",
   "pygments_lexer": "ipython3",
   "version": "3.10.2"
  }
 },
 "nbformat": 4,
 "nbformat_minor": 5
}
